{
 "cells": [
  {
   "cell_type": "code",
   "execution_count": 1,
   "metadata": {},
   "outputs": [],
   "source": [
    "# Imports\n",
    "using DelimitedFiles\n",
    "using Combinatorics\n",
    "using Permutations"
   ]
  },
  {
   "cell_type": "code",
   "execution_count": 2,
   "metadata": {},
   "outputs": [],
   "source": [
    "# Run a simple search through words data\n",
    "# Getting the word dataset\n",
    "# words_path = \"./english-words/words_alpha.txt\"\n",
    "words_path = \"./oxford_words.txt\"\n",
    "words_alpha = readdlm(words_path);"
   ]
  },
  {
   "cell_type": "code",
   "execution_count": 3,
   "metadata": {},
   "outputs": [],
   "source": [
    "# Declare sets of variables\n",
    "letters = (('b', 'e', 'p'), ('u', 'i', 'n'), ('c', 't', 'a'), ('l', 'm', 'o'));\n",
    "# letters = (('h', 'i', 'g'), ('a', 's', 'b'), ('m', 'x', 'c'), ('o', 'e', 't'));\n",
    "# Construct the rules for the words search\n",
    "# Letters that should be in the words\n",
    "all_letters = collect(Iterators.flatten(letters));"
   ]
  },
  {
   "cell_type": "code",
   "execution_count": 4,
   "metadata": {},
   "outputs": [],
   "source": [
    "# Step-1: Get the words containing only the basis letters\n",
    "min_word_size = 10\n",
    "\n",
    "# Declare empty word list\n",
    "contains_letters_list = String[]\n",
    "for word in words_alpha\n",
    "    split_word = collect(word)\n",
    "    word_length = size(split_word)\n",
    "    # Add rules to filter only required words\n",
    "    if all(in(all_letters).(split_word)) && (word_length[1] >= min_word_size)\n",
    "        # Add it to the new word list\n",
    "        push!(contains_letters_list, word)\n",
    "    end\n",
    "end"
   ]
  },
  {
   "cell_type": "code",
   "execution_count": 5,
   "metadata": {},
   "outputs": [],
   "source": [
    "# Letter pairings that should not be in the words\n",
    "bad_combos = String[]\n",
    "for lett in letters\n",
    "    for l in lett\n",
    "        push!(bad_combos, string(l,l))\n",
    "    end\n",
    "    for perm in collect(permutations(lett,2))\n",
    "        push!(bad_combos, join(perm))\n",
    "    end\n",
    "end"
   ]
  },
  {
   "cell_type": "code",
   "execution_count": 6,
   "metadata": {},
   "outputs": [],
   "source": [
    "# Step-2: Get the candidate words\n",
    "\n",
    "candidate_words = String[]\n",
    "for word in contains_letters_list\n",
    "    word_split = collect(word)\n",
    "    word_length = (size(word_split))[1]\n",
    "    combo_check = true\n",
    "    for ii = 1:word_length-1\n",
    "        combo_check = combo_check && !in(bad_combos).(join(word_split[ii:ii+1]))      \n",
    "    end\n",
    "    if combo_check == true\n",
    "        push!(candidate_words, word)\n",
    "    end\n",
    "end"
   ]
  },
  {
   "cell_type": "code",
   "execution_count": 7,
   "metadata": {
    "scrolled": true
   },
   "outputs": [],
   "source": [
    "# Now get candidate solutions\n",
    "candidate_solutions = []\n",
    "for first_word in candidate_words\n",
    "    first_word_split = collect(first_word)\n",
    "    last_letter = (first_word_split)[end]\n",
    "    for second_word in candidate_words\n",
    "        second_word_split = collect(second_word)\n",
    "        first_letter = (second_word_split)[1]\n",
    "        if last_letter == first_letter\n",
    "            two_word_letters = union(first_word_split, second_word_split)\n",
    "            if all(in(two_word_letters).(all_letters))\n",
    "                push!(candidate_solutions, (first_word, second_word))\n",
    "            end\n",
    "        end\n",
    "    end\n",
    "end"
   ]
  },
  {
   "cell_type": "code",
   "execution_count": 8,
   "metadata": {},
   "outputs": [
    {
     "data": {
      "text/plain": [
       "7-element Array{Any,1}:\n",
       " (\"ambulanceman\", \"nonoptimal\")\n",
       " (\"ambulancemen\", \"nonoptimal\")\n",
       " (\"antibiotic\", \"couplement\")\n",
       " (\"imbibitional\", \"leucopoietic\")\n",
       " (\"leucopoietic\", \"contemplable\")\n",
       " (\"nonantibiotic\", \"couplement\")\n",
       " (\"outbalance\", \"empiecement\")"
      ]
     },
     "execution_count": 8,
     "metadata": {},
     "output_type": "execute_result"
    }
   ],
   "source": [
    "candidate_solutions"
   ]
  },
  {
   "cell_type": "code",
   "execution_count": 308,
   "metadata": {},
   "outputs": [
    {
     "data": {
      "text/plain": [
       "true"
      ]
     },
     "execution_count": 308,
     "metadata": {},
     "output_type": "execute_result"
    }
   ],
   "source": [
    "# Search if known words are in the list\n",
    "in(words_alpha).(\"egoism\")"
   ]
  },
  {
   "cell_type": "code",
   "execution_count": null,
   "metadata": {},
   "outputs": [],
   "source": []
  }
 ],
 "metadata": {
  "kernelspec": {
   "display_name": "Julia 1.4.1",
   "language": "julia",
   "name": "julia-1.4"
  },
  "language_info": {
   "file_extension": ".jl",
   "mimetype": "application/julia",
   "name": "julia",
   "version": "1.4.1"
  }
 },
 "nbformat": 4,
 "nbformat_minor": 4
}
